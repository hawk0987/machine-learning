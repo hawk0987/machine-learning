{
  "nbformat": 4,
  "nbformat_minor": 0,
  "metadata": {
    "colab": {
      "provenance": [],
      "collapsed_sections": [],
      "authorship_tag": "ABX9TyO4vUuzUKOQqTzRumc4RRSN"
    },
    "kernelspec": {
      "name": "python3",
      "display_name": "Python 3"
    },
    "language_info": {
      "name": "python"
    }
  },
  "cells": [
    {
      "cell_type": "code",
      "source": [
        "!sudo apt-get install -y fonts-nanum\n",
        "!sudo fc-cache -fv\n",
        "!rm ~/.cache/matplotlib -rf"
      ],
      "metadata": {
        "colab": {
          "base_uri": "https://localhost:8080/"
        },
        "id": "mtNVXlPH52gg",
        "outputId": "47fcbf68-6073-4076-a282-43bb618000d0"
      },
      "execution_count": 14,
      "outputs": [
        {
          "output_type": "stream",
          "name": "stdout",
          "text": [
            "Reading package lists... Done\n",
            "Building dependency tree       \n",
            "Reading state information... Done\n",
            "The following package was automatically installed and is no longer required:\n",
            "  libnvidia-common-460\n",
            "Use 'sudo apt autoremove' to remove it.\n",
            "The following NEW packages will be installed:\n",
            "  fonts-nanum\n",
            "0 upgraded, 1 newly installed, 0 to remove and 5 not upgraded.\n",
            "Need to get 9,604 kB of archives.\n",
            "After this operation, 29.5 MB of additional disk space will be used.\n",
            "Get:1 http://archive.ubuntu.com/ubuntu bionic/universe amd64 fonts-nanum all 20170925-1 [9,604 kB]\n",
            "Fetched 9,604 kB in 2s (5,584 kB/s)\n",
            "debconf: unable to initialize frontend: Dialog\n",
            "debconf: (No usable dialog-like program is installed, so the dialog based frontend cannot be used. at /usr/share/perl5/Debconf/FrontEnd/Dialog.pm line 76, <> line 1.)\n",
            "debconf: falling back to frontend: Readline\n",
            "debconf: unable to initialize frontend: Readline\n",
            "debconf: (This frontend requires a controlling tty.)\n",
            "debconf: falling back to frontend: Teletype\n",
            "dpkg-preconfigure: unable to re-open stdin: \n",
            "Selecting previously unselected package fonts-nanum.\n",
            "(Reading database ... 123942 files and directories currently installed.)\n",
            "Preparing to unpack .../fonts-nanum_20170925-1_all.deb ...\n",
            "Unpacking fonts-nanum (20170925-1) ...\n",
            "Setting up fonts-nanum (20170925-1) ...\n",
            "Processing triggers for fontconfig (2.12.6-0ubuntu2) ...\n",
            "/usr/share/fonts: caching, new cache contents: 0 fonts, 1 dirs\n",
            "/usr/share/fonts/truetype: caching, new cache contents: 0 fonts, 3 dirs\n",
            "/usr/share/fonts/truetype/humor-sans: caching, new cache contents: 1 fonts, 0 dirs\n",
            "/usr/share/fonts/truetype/liberation: caching, new cache contents: 16 fonts, 0 dirs\n",
            "/usr/share/fonts/truetype/nanum: caching, new cache contents: 10 fonts, 0 dirs\n",
            "/usr/local/share/fonts: caching, new cache contents: 0 fonts, 0 dirs\n",
            "/root/.local/share/fonts: skipping, no such directory\n",
            "/root/.fonts: skipping, no such directory\n",
            "/var/cache/fontconfig: cleaning cache directory\n",
            "/root/.cache/fontconfig: not cleaning non-existent cache directory\n",
            "/root/.fontconfig: not cleaning non-existent cache directory\n",
            "fc-cache: succeeded\n"
          ]
        }
      ]
    },
    {
      "cell_type": "code",
      "source": [
        "import pandas as pd\n",
        "import numpy as np\n",
        "import matplotlib.pyplot as plt\n",
        "plt.rc('font', family='NanumBarunGothic')"
      ],
      "metadata": {
        "id": "fciABlc29Lgg"
      },
      "execution_count": 1,
      "outputs": []
    },
    {
      "cell_type": "code",
      "source": [
        "# 당뇨병 데이터셋 로드\n",
        "from sklearn.datasets import load_diabetes\n",
        "diabetes = load_diabetes()\n",
        "\n",
        "# train, test 분리\n",
        "from sklearn.model_selection import train_test_split\n",
        "X_train, X_test, y_train, y_test = train_test_split(diabetes.data, diabetes.target, random_state=26)"
      ],
      "metadata": {
        "id": "IULgXUT6nhuJ"
      },
      "execution_count": null,
      "outputs": []
    },
    {
      "cell_type": "markdown",
      "source": [
        "# 선형 회귀"
      ],
      "metadata": {
        "id": "WV4A6v8TATv-"
      }
    },
    {
      "cell_type": "code",
      "source": [
        "# 선형 회귀\n",
        "from sklearn.linear_model import LinearRegression\n",
        "linear_reg = LinearRegression().fit(X_train, y_train)\n",
        "\n",
        "print('학습 점수 :', linear_reg.score(X_train, y_train))\n",
        "print('테스트 점수 :', linear_reg.score(X_test, y_test))"
      ],
      "metadata": {
        "colab": {
          "base_uri": "https://localhost:8080/"
        },
        "id": "PImt8Y3ir1T5",
        "outputId": "ae313783-9af6-4c79-ebfb-5b822bb04e7a"
      },
      "execution_count": null,
      "outputs": [
        {
          "output_type": "stream",
          "name": "stdout",
          "text": [
            "학습 점수 : 0.5318534159896156\n",
            "테스트 점수 : 0.45263268696241277\n"
          ]
        }
      ]
    },
    {
      "cell_type": "markdown",
      "source": [
        "# 릿지 회귀"
      ],
      "metadata": {
        "id": "OOBMri6qAVCD"
      }
    },
    {
      "cell_type": "code",
      "source": [
        "# 릿지 회귀\n",
        "from sklearn.linear_model import Ridge\n",
        "ridge = Ridge().fit(X_train, y_train)\n",
        "\n",
        "print('학습 점수 :', ridge.score(X_train, y_train))\n",
        "print('테스트 점수 :', ridge.score(X_test, y_test))"
      ],
      "metadata": {
        "colab": {
          "base_uri": "https://localhost:8080/"
        },
        "id": "BWcF_kqs-Aql",
        "outputId": "7e027864-d38c-4a0b-ed5c-49ecb3ef711d"
      },
      "execution_count": null,
      "outputs": [
        {
          "output_type": "stream",
          "name": "stdout",
          "text": [
            "학습 점수 : 0.4438122666960367\n",
            "테스트 점수 : 0.39725602612955124\n"
          ]
        }
      ]
    },
    {
      "cell_type": "code",
      "source": [
        "# 선형 회귀와 릿지 회귀 비교\n",
        "plt.plot(linear_reg.coef_, 'v', label = 'LinearRegression')\n",
        "plt.plot(ridge.coef_, '^', label = 'Ridge')\n",
        "\n",
        "plt.xlabel('계수 목록')\n",
        "plt.ylabel('계수 크기')\n",
        "\n",
        "xlims = plt.xlim()\n",
        "plt.hlines(0, xlims[0], xlims[1])\n",
        "plt.xlim(xlims)\n",
        "plt.ylim(-1000, 1000)\n",
        "plt.legend()"
      ],
      "metadata": {
        "colab": {
          "base_uri": "https://localhost:8080/",
          "height": 356
        },
        "id": "GMEQYblR91zA",
        "outputId": "9faa8949-b1fb-472e-99a2-3ec8d275d569"
      },
      "execution_count": null,
      "outputs": [
        {
          "output_type": "execute_result",
          "data": {
            "text/plain": [
              "<matplotlib.legend.Legend at 0x7f2355835510>"
            ]
          },
          "metadata": {},
          "execution_count": 21
        },
        {
          "output_type": "stream",
          "name": "stderr",
          "text": [
            "/usr/local/lib/python3.7/dist-packages/matplotlib/backends/backend_agg.py:214: RuntimeWarning: Glyph 8722 missing from current font.\n",
            "  font.set_text(s, 0.0, flags=flags)\n",
            "/usr/local/lib/python3.7/dist-packages/matplotlib/backends/backend_agg.py:183: RuntimeWarning: Glyph 8722 missing from current font.\n",
            "  font.set_text(s, 0, flags=flags)\n"
          ]
        },
        {
          "output_type": "display_data",
          "data": {
            "text/plain": [
              "<Figure size 432x288 with 1 Axes>"
            ],
            "image/png": "[encoded data removed]"
          },
          "metadata": {
            "needs_background": "light"
          }
        }
      ]
    },
    {
      "cell_type": "code",
      "source": [
        "# 릿지 회귀(규제)\n",
        "from sklearn.linear_model import Ridge\n",
        "ridge = Ridge().fit(X_train, y_train)\n",
        "ridge01 = Ridge(alpha=0.1).fit(X_train, y_train)\n",
        "ridge10 = Ridge(alpha=10).fit(X_train, y_train)\n",
        "\n",
        "print('Ridge')\n",
        "print('학습 점수 :', ridge.score(X_train, y_train))\n",
        "print('테스트 점수 :', ridge.score(X_test, y_test))\n",
        "\n",
        "print()\n",
        "print('Ridge0.1')\n",
        "print('학습 점수 :', ridge01.score(X_train, y_train))\n",
        "print('테스트 점수 :', ridge01.score(X_test, y_test))\n",
        "\n",
        "print()\n",
        "print('Ridge10')\n",
        "print('학습 점수 :', ridge10.score(X_train, y_train))\n",
        "print('테스트 점수 :', ridge10.score(X_test, y_test))"
      ],
      "metadata": {
        "colab": {
          "base_uri": "https://localhost:8080/"
        },
        "id": "wa9eb7nHr1V0",
        "outputId": "12073921-9612-40c6-eb05-903209d61401"
      },
      "execution_count": null,
      "outputs": [
        {
          "output_type": "stream",
          "name": "stdout",
          "text": [
            "Ridge\n",
            "학습 점수 : 0.4438122666960367\n",
            "테스트 점수 : 0.39725602612955124\n",
            "\n",
            "Ridge0.1\n",
            "학습 점수 : 0.5261639554478674\n",
            "테스트 점수 : 0.4511693877119213\n",
            "\n",
            "Ridge10\n",
            "학습 점수 : 0.16285530859616648\n",
            "테스트 점수 : 0.14818620082918377\n"
          ]
        }
      ]
    },
    {
      "cell_type": "code",
      "source": [
        "# 릿지 회귀 규제간의 비교\n",
        "plt.plot(ridge.coef_, '^', label = 'Ridge alpha=1')\n",
        "plt.plot(ridge01.coef_, 'v', label = 'Ridge alpha=0.1')\n",
        "plt.plot(ridge10.coef_, 's', label = 'Ridge alpha=10')\n",
        "\n",
        "plt.xlabel('계수 목록')\n",
        "plt.ylabel('계수 크기')\n",
        "\n",
        "xlims = plt.xlim()\n",
        "plt.hlines(0, xlims[0], xlims[1])\n",
        "plt.xlim(xlims)\n",
        "plt.ylim(-1000, 1000)\n",
        "plt.legend()"
      ],
      "metadata": {
        "colab": {
          "base_uri": "https://localhost:8080/",
          "height": 356
        },
        "id": "L6XlWd1Jr1Xz",
        "outputId": "e550f30d-c73b-4881-bf05-a45b1b9d994a"
      },
      "execution_count": null,
      "outputs": [
        {
          "output_type": "execute_result",
          "data": {
            "text/plain": [
              "<matplotlib.legend.Legend at 0x7f23557d48d0>"
            ]
          },
          "metadata": {},
          "execution_count": 23
        },
        {
          "output_type": "stream",
          "name": "stderr",
          "text": [
            "/usr/local/lib/python3.7/dist-packages/matplotlib/backends/backend_agg.py:214: RuntimeWarning: Glyph 8722 missing from current font.\n",
            "  font.set_text(s, 0.0, flags=flags)\n",
            "/usr/local/lib/python3.7/dist-packages/matplotlib/backends/backend_agg.py:183: RuntimeWarning: Glyph 8722 missing from current font.\n",
            "  font.set_text(s, 0, flags=flags)\n"
          ]
        },
        {
          "output_type": "display_data",
          "data": {
            "text/plain": [
              "<Figure size 432x288 with 1 Axes>"
            ],
            "image/png": "[encoded data removed]"
          },
          "metadata": {
            "needs_background": "light"
          }
        }
      ]
    },
    {
      "cell_type": "markdown",
      "source": [
        "# 라쏘 회귀"
      ],
      "metadata": {
        "id": "--tOcz-7AW1v"
      }
    },
    {
      "cell_type": "code",
      "source": [
        "# 라쏘 회귀\n",
        "from sklearn.linear_model import Lasso\n",
        "lasso = Lasso().fit(X_train, y_train)\n",
        "lasso10 = Lasso(alpha=10).fit(X_train, y_train)\n",
        "lasso001 = Lasso(alpha=0.01, max_iter=50000).fit(X_train, y_train)\n",
        "lasso00001 = Lasso(alpha=0.0001, max_iter=50000).fit(X_train, y_train)\n",
        "\n",
        "print('Lasso')\n",
        "print('학습 점수 :', lasso.score(X_train, y_train))\n",
        "print('테스트 점수 :', lasso.score(X_test, y_test))\n",
        "print('사용 특성 개수 :', np.sum(lasso.coef_ != 0))\n",
        "\n",
        "print()\n",
        "print('Lasso10')\n",
        "print('학습 점수 :', lasso10.score(X_train, y_train))\n",
        "print('테스트 점수 :', lasso10.score(X_test, y_test))\n",
        "print('사용 특성 개수 :', np.sum(lasso10.coef_ != 0))\n",
        "\n",
        "print()\n",
        "print('Lasso0.01')\n",
        "print('학습 점수 :', lasso001.score(X_train, y_train))\n",
        "print('테스트 점수 :', lasso001.score(X_test, y_test))\n",
        "print('사용 특성 개수 :', np.sum(lasso001.coef_ != 0))\n",
        "\n",
        "print()\n",
        "print('Lasso0.0001')\n",
        "print('학습 점수 :', lasso00001.score(X_train, y_train))\n",
        "print('테스트 점수 :', lasso00001.score(X_test, y_test))\n",
        "print('사용 특성 개수 :', np.sum(lasso00001.coef_ != 0))"
      ],
      "metadata": {
        "colab": {
          "base_uri": "https://localhost:8080/"
        },
        "id": "llFO8F2PuY-7",
        "outputId": "a020b548-8012-4aa7-ad49-be66ec6d31f6"
      },
      "execution_count": null,
      "outputs": [
        {
          "output_type": "stream",
          "name": "stdout",
          "text": [
            "Lasso\n",
            "학습 점수 : 0.3728000602757743\n",
            "테스트 점수 : 0.3433814928374479\n",
            "사용 특성 개수 : 2\n",
            "\n",
            "Lasso10\n",
            "학습 점수 : 0.0\n",
            "테스트 점수 : -0.004179948808548328\n",
            "사용 특성 개수 : 0\n",
            "\n",
            "Lasso0.01\n",
            "학습 점수 : 0.5306191095820931\n",
            "테스트 점수 : 0.4502435019299066\n",
            "사용 특성 개수 : 9\n",
            "\n",
            "Lasso0.0001\n",
            "학습 점수 : 0.5318531037843632\n",
            "테스트 점수 : 0.4526045191274204\n",
            "사용 특성 개수 : 10\n"
          ]
        }
      ]
    },
    {
      "cell_type": "code",
      "source": [
        "plt.plot(lasso.coef_, '^', label = 'Lasso alpha=1')\n",
        "plt.plot(lasso10.coef_, 's', label = 'Lasso alpha=10')\n",
        "plt.plot(lasso001.coef_, 'v', label = 'Lasso alpha=0.01')\n",
        "plt.plot(lasso00001.coef_, 's', label = 'Lasso alpha=0.0001')\n",
        "\n",
        "plt.xlabel('계수 목록')\n",
        "plt.ylabel('계수 크기')\n",
        "\n",
        "xlims = plt.xlim()\n",
        "plt.hlines(0, xlims[0], xlims[1])\n",
        "plt.xlim(xlims)\n",
        "plt.ylim(-1000, 1000)\n",
        "plt.legend()"
      ],
      "metadata": {
        "colab": {
          "base_uri": "https://localhost:8080/",
          "height": 356
        },
        "id": "FTfvETO8uZA8",
        "outputId": "54f6b6ba-37a5-4a56-80bb-0438cbf7e72a"
      },
      "execution_count": null,
      "outputs": [
        {
          "output_type": "execute_result",
          "data": {
            "text/plain": [
              "<matplotlib.legend.Legend at 0x7f236cb64810>"
            ]
          },
          "metadata": {},
          "execution_count": 26
        },
        {
          "output_type": "stream",
          "name": "stderr",
          "text": [
            "/usr/local/lib/python3.7/dist-packages/matplotlib/backends/backend_agg.py:214: RuntimeWarning: Glyph 8722 missing from current font.\n",
            "  font.set_text(s, 0.0, flags=flags)\n",
            "/usr/local/lib/python3.7/dist-packages/matplotlib/backends/backend_agg.py:183: RuntimeWarning: Glyph 8722 missing from current font.\n",
            "  font.set_text(s, 0, flags=flags)\n"
          ]
        },
        {
          "output_type": "display_data",
          "data": {
            "text/plain": [
              "<Figure size 432x288 with 1 Axes>"
            ],
            "image/png": "[encoded data removed]"
          },
          "metadata": {
            "needs_background": "light"
          }
        }
      ]
    },
    {
      "cell_type": "markdown",
      "source": [
        "# 로지스틱 회귀"
      ],
      "metadata": {
        "id": "w7HXDVIKAPjb"
      }
    },
    {
      "cell_type": "code",
      "source": [
        "# 유방암 데이터셋 로드\n",
        "from sklearn.datasets import load_breast_cancer\n",
        "cancer = load_breast_cancer()\n",
        "\n",
        "# train, test 분리\n",
        "from sklearn.model_selection import train_test_split\n",
        "X_train, X_test, y_train, y_test = train_test_split(cancer.data, cancer.target, stratify=cancer.target, random_state=26)"
      ],
      "metadata": {
        "id": "QSxKHuWC1nK8"
      },
      "execution_count": 2,
      "outputs": []
    },
    {
      "cell_type": "code",
      "source": [
        "# 로지스틱 회귀\n",
        "from sklearn.linear_model import LogisticRegression\n",
        "logreg = LogisticRegression(max_iter=50000).fit(X_train, y_train)\n",
        "logreg100 = LogisticRegression(C=100, max_iter=50000).fit(X_train, y_train)\n",
        "logreg001 = LogisticRegression(C=0.01, max_iter=50000).fit(X_train, y_train)\n",
        "\n",
        "print('LogisticRegression')\n",
        "print('학습 점수:',logreg.score(X_train, y_train))\n",
        "print('테스트 점수:',logreg.score(X_test, y_test))\n",
        "\n",
        "print()\n",
        "print('LogisticRegression100')\n",
        "print('학습 점수:',logreg100.score(X_train, y_train))\n",
        "print('테스트 점수:',logreg100.score(X_test, y_test))\n",
        "\n",
        "print()\n",
        "print('LogisticRegression001')\n",
        "print('학습 점수:', logreg001.score(X_train, y_train))\n",
        "print('테스트 점수:', logreg001.score(X_test, y_test))"
      ],
      "metadata": {
        "colab": {
          "base_uri": "https://localhost:8080/"
        },
        "id": "0zYd-iu5oiO-",
        "outputId": "5633039c-a17a-41c3-b633-43fd7d61b9d1"
      },
      "execution_count": 23,
      "outputs": [
        {
          "output_type": "stream",
          "name": "stdout",
          "text": [
            "LogisticRegression\n",
            "학습 점수: 0.9624413145539906\n",
            "테스트 점수: 0.9440559440559441\n",
            "\n",
            "LogisticRegression100\n",
            "학습 점수: 0.9859154929577465\n",
            "테스트 점수: 0.958041958041958\n",
            "\n",
            "LogisticRegression001\n",
            "학습 점수: 0.9577464788732394\n",
            "테스트 점수: 0.9370629370629371\n"
          ]
        }
      ]
    },
    {
      "cell_type": "code",
      "source": [
        "plt.plot(logreg100.coef_.T, '^', label='C=100')\n",
        "plt.plot(logreg.coef_.T, 'o', label='C=1')\n",
        "plt.plot(logreg001.coef_.T, 'v', label='C=0.01')\n",
        "\n",
        "plt.xticks(range(cancer.data.shape[1]), cancer.feature_names, rotation=90)\n",
        "\n",
        "plt.xlabel('특성')\n",
        "plt.ylabel('계수 크기')\n",
        "\n",
        "xlims = plt.xlim()\n",
        "plt.hlines(0, xlims[0], xlims[1])\n",
        "plt.xlim(xlims)\n",
        "plt.ylim(-5, 5)\n",
        "plt.legend()"
      ],
      "metadata": {
        "colab": {
          "base_uri": "https://localhost:8080/",
          "height": 452
        },
        "id": "fSMFvXx45BNI",
        "outputId": "2c7d5c59-7ebe-4b2d-9272-6c0f54c18fb3"
      },
      "execution_count": 24,
      "outputs": [
        {
          "output_type": "execute_result",
          "data": {
            "text/plain": [
              "<matplotlib.legend.Legend at 0x7f097e540510>"
            ]
          },
          "metadata": {},
          "execution_count": 24
        },
        {
          "output_type": "stream",
          "name": "stderr",
          "text": [
            "/usr/local/lib/python3.7/dist-packages/matplotlib/backends/backend_agg.py:214: RuntimeWarning: Glyph 8722 missing from current font.\n",
            "  font.set_text(s, 0.0, flags=flags)\n",
            "/usr/local/lib/python3.7/dist-packages/matplotlib/backends/backend_agg.py:183: RuntimeWarning: Glyph 8722 missing from current font.\n",
            "  font.set_text(s, 0, flags=flags)\n"
          ]
        },
        {
          "output_type": "display_data",
          "data": {
            "text/plain": [
              "<Figure size 432x288 with 1 Axes>"
            ],
            "image/png": "[encoded data removed]"
          },
          "metadata": {
            "needs_background": "light"
          }
        }
      ]
    },
    {
      "cell_type": "code",
      "source": [
        "logreg = LogisticRegression(solver='liblinear', penalty='l1', max_iter=50000).fit(X_train, y_train)\n",
        "logreg100 = LogisticRegression(solver='liblinear', C=100, penalty='l1', max_iter=50000).fit(X_train, y_train)\n",
        "logreg001 = LogisticRegression(solver='liblinear', C=0.01, penalty='l1', max_iter=50000).fit(X_train, y_train)\n",
        "\n",
        "print('LogisticRegression (L1사용)')\n",
        "print('학습 점수:',logreg.score(X_train, y_train))\n",
        "print('테스트 점수:',logreg.score(X_test, y_test))\n",
        "\n",
        "print()\n",
        "print('LogisticRegression100 (L1사용)')\n",
        "print('학습 점수:',logreg100.score(X_train, y_train))\n",
        "print('테스트 점수:',logreg100.score(X_test, y_test))\n",
        "\n",
        "print()\n",
        "print('LogisticRegression001 (L1사용)')\n",
        "print('학습 점수:', logreg001.score(X_train, y_train))\n",
        "print('테스트 점수:', logreg001.score(X_test, y_test))"
      ],
      "metadata": {
        "colab": {
          "base_uri": "https://localhost:8080/"
        },
        "id": "U6NcKWzJ-EZG",
        "outputId": "bfe20631-e308-4e6d-b886-8d091f10f121"
      },
      "execution_count": 25,
      "outputs": [
        {
          "output_type": "stream",
          "name": "stdout",
          "text": [
            "LogisticRegression (L1사용)\n",
            "학습 점수: 0.9647887323943662\n",
            "테스트 점수: 0.9440559440559441\n",
            "\n",
            "LogisticRegression100 (L1사용)\n",
            "학습 점수: 0.9953051643192489\n",
            "테스트 점수: 0.958041958041958\n",
            "\n",
            "LogisticRegression001 (L1사용)\n",
            "학습 점수: 0.9248826291079812\n",
            "테스트 점수: 0.9020979020979021\n"
          ]
        }
      ]
    },
    {
      "cell_type": "code",
      "source": [
        "plt.plot(logreg100.coef_.T, '^', label='C=100')\n",
        "plt.plot(logreg.coef_.T, 'o', label='C=1')\n",
        "plt.plot(logreg001.coef_.T, 'v', label='C=0.001')\n",
        "\n",
        "plt.xticks(range(cancer.data.shape[1]), cancer.feature_names, rotation=90)\n",
        "\n",
        "plt.xlabel('특성')\n",
        "plt.ylabel('계수 크기')\n",
        "\n",
        "xlims = plt.xlim()\n",
        "plt.hlines(0, xlims[0], xlims[1])\n",
        "plt.xlim(xlims)\n",
        "plt.ylim(-5, 5)\n",
        "plt.legend()"
      ],
      "metadata": {
        "colab": {
          "base_uri": "https://localhost:8080/",
          "height": 452
        },
        "id": "oDXo9Sow-j1-",
        "outputId": "cb3d00f2-b0f5-49af-ba2f-aac070d1f97a"
      },
      "execution_count": 11,
      "outputs": [
        {
          "output_type": "execute_result",
          "data": {
            "text/plain": [
              "<matplotlib.legend.Legend at 0x7f097e62fb10>"
            ]
          },
          "metadata": {},
          "execution_count": 11
        },
        {
          "output_type": "stream",
          "name": "stderr",
          "text": [
            "/usr/local/lib/python3.7/dist-packages/matplotlib/backends/backend_agg.py:214: RuntimeWarning: Glyph 8722 missing from current font.\n",
            "  font.set_text(s, 0.0, flags=flags)\n",
            "/usr/local/lib/python3.7/dist-packages/matplotlib/backends/backend_agg.py:183: RuntimeWarning: Glyph 8722 missing from current font.\n",
            "  font.set_text(s, 0, flags=flags)\n"
          ]
        },
        {
          "output_type": "display_data",
          "data": {
            "text/plain": [
              "<Figure size 432x288 with 1 Axes>"
            ],
            "image/png": "[encoded data removed]"
          },
          "metadata": {
            "needs_background": "light"
          }
        }
      ]
    }
  ]
}
