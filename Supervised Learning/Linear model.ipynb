{
  "nbformat": 4,
  "nbformat_minor": 0,
  "metadata": {
    "colab": {
      "provenance": [],
      "collapsed_sections": [],
      "authorship_tag": "ABX9TyOkyQSLSw+KCJ2pkPqF4Q59"
    },
    "kernelspec": {
      "name": "python3",
      "display_name": "Python 3"
    },
    "language_info": {
      "name": "python"
    }
  },
  "cells": [
    {
      "cell_type": "code",
      "source": [
        "import pandas as pd\n",
        "import numpy as np\n",
        "import matplotlib.pyplot as plt\n",
        "plt.rc('font', family='NanumBarunGothic')"
      ],
      "metadata": {
        "id": "fciABlc29Lgg"
      },
      "execution_count": 1,
      "outputs": []
    },
    {
      "cell_type": "code",
      "source": [
        "# 당뇨병 데이터셋 로드\n",
        "from sklearn.datasets import load_diabetes\n",
        "diabetes = load_diabetes()\n",
        "\n",
        "# train, test 분리\n",
        "from sklearn.model_selection import train_test_split\n",
        "X_train, X_test, y_train, y_test = train_test_split(diabetes.data, diabetes.target, random_state=26)"
      ],
      "metadata": {
        "id": "IULgXUT6nhuJ"
      },
      "execution_count": 9,
      "outputs": []
    },
    {
      "cell_type": "markdown",
      "source": [
        "# 선형 회귀"
      ],
      "metadata": {
        "id": "WV4A6v8TATv-"
      }
    },
    {
      "cell_type": "code",
      "source": [
        "# 선형 회귀\n",
        "from sklearn.linear_model import LinearRegression\n",
        "linear_reg = LinearRegression().fit(X_train, y_train)\n",
        "\n",
        "print('학습 점수 :', linear_reg.score(X_train, y_train))\n",
        "print('테스트 점수 :', linear_reg.score(X_test, y_test))"
      ],
      "metadata": {
        "colab": {
          "base_uri": "https://localhost:8080/"
        },
        "id": "PImt8Y3ir1T5",
        "outputId": "ae313783-9af6-4c79-ebfb-5b822bb04e7a"
      },
      "execution_count": 19,
      "outputs": [
        {
          "output_type": "stream",
          "name": "stdout",
          "text": [
            "학습 점수 : 0.5318534159896156\n",
            "테스트 점수 : 0.45263268696241277\n"
          ]
        }
      ]
    },
    {
      "cell_type": "markdown",
      "source": [
        "# 릿지 회귀"
      ],
      "metadata": {
        "id": "OOBMri6qAVCD"
      }
    },
    {
      "cell_type": "code",
      "source": [
        "# 릿지 회귀\n",
        "from sklearn.linear_model import Ridge\n",
        "ridge = Ridge().fit(X_train, y_train)\n",
        "\n",
        "print('학습 점수 :', ridge.score(X_train, y_train))\n",
        "print('테스트 점수 :', ridge.score(X_test, y_test))"
      ],
      "metadata": {
        "colab": {
          "base_uri": "https://localhost:8080/"
        },
        "id": "BWcF_kqs-Aql",
        "outputId": "7e027864-d38c-4a0b-ed5c-49ecb3ef711d"
      },
      "execution_count": 20,
      "outputs": [
        {
          "output_type": "stream",
          "name": "stdout",
          "text": [
            "학습 점수 : 0.4438122666960367\n",
            "테스트 점수 : 0.39725602612955124\n"
          ]
        }
      ]
    },
    {
      "cell_type": "code",
      "source": [
        "# 선형 회귀와 릿지 회귀 비교\n",
        "plt.plot(linear_reg.coef_, 'v', label = 'LinearRegression')\n",
        "plt.plot(ridge.coef_, '^', label = 'Ridge')\n",
        "\n",
        "plt.xlabel('계수 목록')\n",
        "plt.ylabel('계수 크기')\n",
        "\n",
        "xlims = plt.xlim()\n",
        "plt.hlines(0, xlims[0], xlims[1])\n",
        "plt.xlim(xlims)\n",
        "plt.ylim(-1000, 1000)\n",
        "plt.legend()"
      ],
      "metadata": {
        "colab": {
          "base_uri": "https://localhost:8080/",
          "height": 356
        },
        "id": "GMEQYblR91zA",
        "outputId": "9faa8949-b1fb-472e-99a2-3ec8d275d569"
      },
      "execution_count": 21,
      "outputs": [
        {
          "output_type": "execute_result",
          "data": {
            "text/plain": [
              "<matplotlib.legend.Legend at 0x7f2355835510>"
            ]
          },
          "metadata": {},
          "execution_count": 21
        },
        {
          "output_type": "stream",
          "name": "stderr",
          "text": [
            "/usr/local/lib/python3.7/dist-packages/matplotlib/backends/backend_agg.py:214: RuntimeWarning: Glyph 8722 missing from current font.\n",
            "  font.set_text(s, 0.0, flags=flags)\n",
            "/usr/local/lib/python3.7/dist-packages/matplotlib/backends/backend_agg.py:183: RuntimeWarning: Glyph 8722 missing from current font.\n",
            "  font.set_text(s, 0, flags=flags)\n"
          ]
        },
        {
          "output_type": "display_data",
          "data": {
            "text/plain": [
              "<Figure size 432x288 with 1 Axes>"
            ],
            "image/png": "[encoded data removed]"
          },
          "metadata": {
            "needs_background": "light"
          }
        }
      ]
    },
    {
      "cell_type": "code",
      "source": [
        "# 릿지 회귀(규제)\n",
        "from sklearn.linear_model import Ridge\n",
        "ridge = Ridge().fit(X_train, y_train)\n",
        "ridge01 = Ridge(alpha=0.1).fit(X_train, y_train)\n",
        "ridge10 = Ridge(alpha=10).fit(X_train, y_train)\n",
        "\n",
        "print('Ridge')\n",
        "print('학습 점수 :', ridge.score(X_train, y_train))\n",
        "print('테스트 점수 :', ridge.score(X_test, y_test))\n",
        "\n",
        "print()\n",
        "print('Ridge0.1')\n",
        "print('학습 점수 :', ridge01.score(X_train, y_train))\n",
        "print('테스트 점수 :', ridge01.score(X_test, y_test))\n",
        "\n",
        "print()\n",
        "print('Ridge10')\n",
        "print('학습 점수 :', ridge10.score(X_train, y_train))\n",
        "print('테스트 점수 :', ridge10.score(X_test, y_test))"
      ],
      "metadata": {
        "colab": {
          "base_uri": "https://localhost:8080/"
        },
        "id": "wa9eb7nHr1V0",
        "outputId": "12073921-9612-40c6-eb05-903209d61401"
      },
      "execution_count": 22,
      "outputs": [
        {
          "output_type": "stream",
          "name": "stdout",
          "text": [
            "Ridge\n",
            "학습 점수 : 0.4438122666960367\n",
            "테스트 점수 : 0.39725602612955124\n",
            "\n",
            "Ridge0.1\n",
            "학습 점수 : 0.5261639554478674\n",
            "테스트 점수 : 0.4511693877119213\n",
            "\n",
            "Ridge10\n",
            "학습 점수 : 0.16285530859616648\n",
            "테스트 점수 : 0.14818620082918377\n"
          ]
        }
      ]
    },
    {
      "cell_type": "code",
      "source": [
        "# 릿지 회귀 규제간의 비교\n",
        "plt.plot(ridge.coef_, '^', label = 'Ridge alpha=1')\n",
        "plt.plot(ridge01.coef_, 'v', label = 'Ridge alpha=0.1')\n",
        "plt.plot(ridge10.coef_, 's', label = 'Ridge alpha=10')\n",
        "\n",
        "plt.xlabel('계수 목록')\n",
        "plt.ylabel('계수 크기')\n",
        "\n",
        "xlims = plt.xlim()\n",
        "plt.hlines(0, xlims[0], xlims[1])\n",
        "plt.xlim(xlims)\n",
        "plt.ylim(-1000, 1000)\n",
        "plt.legend()"
      ],
      "metadata": {
        "colab": {
          "base_uri": "https://localhost:8080/",
          "height": 356
        },
        "id": "L6XlWd1Jr1Xz",
        "outputId": "e550f30d-c73b-4881-bf05-a45b1b9d994a"
      },
      "execution_count": 23,
      "outputs": [
        {
          "output_type": "execute_result",
          "data": {
            "text/plain": [
              "<matplotlib.legend.Legend at 0x7f23557d48d0>"
            ]
          },
          "metadata": {},
          "execution_count": 23
        },
        {
          "output_type": "stream",
          "name": "stderr",
          "text": [
            "/usr/local/lib/python3.7/dist-packages/matplotlib/backends/backend_agg.py:214: RuntimeWarning: Glyph 8722 missing from current font.\n",
            "  font.set_text(s, 0.0, flags=flags)\n",
            "/usr/local/lib/python3.7/dist-packages/matplotlib/backends/backend_agg.py:183: RuntimeWarning: Glyph 8722 missing from current font.\n",
            "  font.set_text(s, 0, flags=flags)\n"
          ]
        },
        {
          "output_type": "display_data",
          "data": {
            "text/plain": [
              "<Figure size 432x288 with 1 Axes>"
            ],
            "image/png": "[encoded data removed]"
          },
          "metadata": {
            "needs_background": "light"
          }
        }
      ]
    },
    {
      "cell_type": "markdown",
      "source": [
        "# 라쏘 회귀"
      ],
      "metadata": {
        "id": "--tOcz-7AW1v"
      }
    },
    {
      "cell_type": "code",
      "source": [
        "# 라쏘 회귀\n",
        "from sklearn.linear_model import Lasso\n",
        "lasso = Lasso().fit(X_train, y_train)\n",
        "lasso10 = Lasso(alpha=10).fit(X_train, y_train)\n",
        "lasso001 = Lasso(alpha=0.01, max_iter=50000).fit(X_train, y_train)\n",
        "lasso00001 = Lasso(alpha=0.0001, max_iter=50000).fit(X_train, y_train)\n",
        "\n",
        "print('Lasso')\n",
        "print('학습 점수 :', lasso.score(X_train, y_train))\n",
        "print('테스트 점수 :', lasso.score(X_test, y_test))\n",
        "print('사용 특성 개수 :', np.sum(lasso.coef_ != 0))\n",
        "\n",
        "print()\n",
        "print('Lasso10')\n",
        "print('학습 점수 :', lasso10.score(X_train, y_train))\n",
        "print('테스트 점수 :', lasso10.score(X_test, y_test))\n",
        "print('사용 특성 개수 :', np.sum(lasso10.coef_ != 0))\n",
        "\n",
        "print()\n",
        "print('Lasso0.01')\n",
        "print('학습 점수 :', lasso001.score(X_train, y_train))\n",
        "print('테스트 점수 :', lasso001.score(X_test, y_test))\n",
        "print('사용 특성 개수 :', np.sum(lasso001.coef_ != 0))\n",
        "\n",
        "print()\n",
        "print('Lasso0.0001')\n",
        "print('학습 점수 :', lasso00001.score(X_train, y_train))\n",
        "print('테스트 점수 :', lasso00001.score(X_test, y_test))\n",
        "print('사용 특성 개수 :', np.sum(lasso00001.coef_ != 0))"
      ],
      "metadata": {
        "colab": {
          "base_uri": "https://localhost:8080/"
        },
        "id": "llFO8F2PuY-7",
        "outputId": "a020b548-8012-4aa7-ad49-be66ec6d31f6"
      },
      "execution_count": 24,
      "outputs": [
        {
          "output_type": "stream",
          "name": "stdout",
          "text": [
            "Lasso\n",
            "학습 점수 : 0.3728000602757743\n",
            "테스트 점수 : 0.3433814928374479\n",
            "사용 특성 개수 : 2\n",
            "\n",
            "Lasso10\n",
            "학습 점수 : 0.0\n",
            "테스트 점수 : -0.004179948808548328\n",
            "사용 특성 개수 : 0\n",
            "\n",
            "Lasso0.01\n",
            "학습 점수 : 0.5306191095820931\n",
            "테스트 점수 : 0.4502435019299066\n",
            "사용 특성 개수 : 9\n",
            "\n",
            "Lasso0.0001\n",
            "학습 점수 : 0.5318531037843632\n",
            "테스트 점수 : 0.4526045191274204\n",
            "사용 특성 개수 : 10\n"
          ]
        }
      ]
    },
    {
      "cell_type": "code",
      "source": [
        "plt.plot(lasso.coef_, '^', label = 'Lasso alpha=1')\n",
        "plt.plot(lasso10.coef_, 's', label = 'Lasso alpha=10')\n",
        "plt.plot(lasso001.coef_, 'v', label = 'Lasso alpha=0.01')\n",
        "plt.plot(lasso00001.coef_, 's', label = 'Lasso alpha=0.0001')\n",
        "\n",
        "plt.xlabel('계수 목록')\n",
        "plt.ylabel('계수 크기')\n",
        "\n",
        "xlims = plt.xlim()\n",
        "plt.hlines(0, xlims[0], xlims[1])\n",
        "plt.xlim(xlims)\n",
        "plt.ylim(-1000, 1000)\n",
        "plt.legend()"
      ],
      "metadata": {
        "colab": {
          "base_uri": "https://localhost:8080/",
          "height": 356
        },
        "id": "FTfvETO8uZA8",
        "outputId": "54f6b6ba-37a5-4a56-80bb-0438cbf7e72a"
      },
      "execution_count": 26,
      "outputs": [
        {
          "output_type": "execute_result",
          "data": {
            "text/plain": [
              "<matplotlib.legend.Legend at 0x7f236cb64810>"
            ]
          },
          "metadata": {},
          "execution_count": 26
        },
        {
          "output_type": "stream",
          "name": "stderr",
          "text": [
            "/usr/local/lib/python3.7/dist-packages/matplotlib/backends/backend_agg.py:214: RuntimeWarning: Glyph 8722 missing from current font.\n",
            "  font.set_text(s, 0.0, flags=flags)\n",
            "/usr/local/lib/python3.7/dist-packages/matplotlib/backends/backend_agg.py:183: RuntimeWarning: Glyph 8722 missing from current font.\n",
            "  font.set_text(s, 0, flags=flags)\n"
          ]
        },
        {
          "output_type": "display_data",
          "data": {
            "text/plain": [
              "<Figure size 432x288 with 1 Axes>"
            ],
            "image/png": "[encoded data removed]"
          },
          "metadata": {
            "needs_background": "light"
          }
        }
      ]
    },
    {
      "cell_type": "markdown",
      "source": [
        "# 로지스틱 회귀"
      ],
      "metadata": {
        "id": "w7HXDVIKAPjb"
      }
    },
    {
      "cell_type": "code",
      "source": [
        "# 로지스틱 회귀\n",
        "from sklearn.linear_model import LogisticRegression\n",
        "logrec = LogisticRegression(max_iter=50000).fit(X_train, y_train)\n",
        "logrec100 = LogisticRegression(C=100, max_iter=50000).fit(X_train, y_train)\n",
        "\n",
        "print('LogisticRegression')\n",
        "print('학습 점수:',logrec.score(X_train, y_train))\n",
        "print('테스트 점수:',logrec.score(X_test, y_test))\n",
        "\n",
        "print()\n",
        "print('LogisticRegression100')\n",
        "print('학습 점수:',logrec100.score(X_train, y_train))\n",
        "print('테스트 점수:',logrec100.score(X_test, y_test))"
      ],
      "metadata": {
        "colab": {
          "base_uri": "https://localhost:8080/"
        },
        "id": "0zYd-iu5oiO-",
        "outputId": "3ebd0094-7277-4fdd-f9b8-033c6d0e11c8"
      },
      "execution_count": null,
      "outputs": [
        {
          "output_type": "stream",
          "name": "stdout",
          "text": [
            "LogisticRegression\n",
            "학습 점수: 0.9624413145539906\n",
            "테스트 점수: 0.9440559440559441\n",
            "\n",
            "LogisticRegression100\n",
            "학습 점수: 0.9859154929577465\n",
            "테스트 점수: 0.958041958041958\n"
          ]
        }
      ]
    },
    {
      "cell_type": "markdown",
      "source": [
        "# SVM (Support Vector machine)"
      ],
      "metadata": {
        "id": "YupTwEmvAjWW"
      }
    },
    {
      "cell_type": "code",
      "source": [
        "# svm\n",
        "from sklearn.svm import LinearSVC"
      ],
      "metadata": {
        "id": "-D9GZcnhpDIc"
      },
      "execution_count": null,
      "outputs": []
    },
    {
      "cell_type": "code",
      "source": [],
      "metadata": {
        "id": "N9Sv9f8KAsnF"
      },
      "execution_count": null,
      "outputs": []
    }
  ]
}
