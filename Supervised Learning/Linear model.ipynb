{
  "nbformat": 4,
  "nbformat_minor": 0,
  "metadata": {
    "colab": {
      "provenance": [],
      "collapsed_sections": [],
      "authorship_tag": "ABX9TyNDE1CwWcQj9+kr3UmPfRb8"
    },
    "kernelspec": {
      "name": "python3",
      "display_name": "Python 3"
    },
    "language_info": {
      "name": "python"
    }
  },
  "cells": [
    {
      "cell_type": "code",
      "source": [
        "import pandas as pd\n",
        "import numpy as np\n",
        "import matplotlib.pyplot as plt\n",
        "plt.rc('font', family='NanumBarunGothic')"
      ],
      "metadata": {
        "id": "fciABlc29Lgg"
      },
      "execution_count": 61,
      "outputs": []
    },
    {
      "cell_type": "code",
      "source": [
        "# 유방암 데이터셋 로드\n",
        "from sklearn.datasets import load_breast_cancer\n",
        "cancer = load_breast_cancer()\n",
        "\n",
        "# train, test 분리\n",
        "from sklearn.model_selection import train_test_split\n",
        "X_train, X_test, y_train, y_test = train_test_split(cancer.data, cancer.target, stratify=cancer.target, random_state=26)"
      ],
      "metadata": {
        "id": "IULgXUT6nhuJ"
      },
      "execution_count": 8,
      "outputs": []
    },
    {
      "cell_type": "markdown",
      "source": [
        "# 선형 회귀"
      ],
      "metadata": {
        "id": "WV4A6v8TATv-"
      }
    },
    {
      "cell_type": "code",
      "source": [
        "# 선형 회귀\n",
        "from sklearn.linear_model import LinearRegression\n",
        "linear_reg = LinearRegression().fit(X_train, y_train)\n",
        "\n",
        "print('학습 점수 :', linear_reg.score(X_train, y_train))\n",
        "print('테스트 점수 :', linear_reg.score(X_test, y_test))"
      ],
      "metadata": {
        "colab": {
          "base_uri": "https://localhost:8080/"
        },
        "id": "PImt8Y3ir1T5",
        "outputId": "7628fea5-c2f3-4c79-ebcf-15f3be7f685b"
      },
      "execution_count": 9,
      "outputs": [
        {
          "output_type": "stream",
          "name": "stdout",
          "text": [
            "학습 점수 : 0.7817593048360867\n",
            "테스트 점수 : 0.7330963488728478\n"
          ]
        }
      ]
    },
    {
      "cell_type": "markdown",
      "source": [
        "# 릿지 회귀"
      ],
      "metadata": {
        "id": "OOBMri6qAVCD"
      }
    },
    {
      "cell_type": "code",
      "source": [
        "# 릿지 회귀\n",
        "from sklearn.linear_model import Ridge\n",
        "ridge = Ridge().fit(X_train, y_train)\n",
        "\n",
        "print('학습 점수 :', ridge.score(X_train, y_train))\n",
        "print('테스트 점수 :', ridge.score(X_test, y_test))"
      ],
      "metadata": {
        "colab": {
          "base_uri": "https://localhost:8080/"
        },
        "id": "BWcF_kqs-Aql",
        "outputId": "77c460b0-cd27-40f7-cde5-d55866089dad"
      },
      "execution_count": 78,
      "outputs": [
        {
          "output_type": "stream",
          "name": "stdout",
          "text": [
            "학습 점수 : 0.7515341143385063\n",
            "테스트 점수 : 0.7007820570615126\n"
          ]
        }
      ]
    },
    {
      "cell_type": "code",
      "source": [
        "# 선형 회귀와 릿지 회귀 비교\n",
        "plt.plot(linear_reg.coef_, 'v', label = 'LinearRegression')\n",
        "plt.plot(ridge.coef_, '^', label = 'Ridge')\n",
        "\n",
        "plt.xlabel('계수 목록')\n",
        "plt.ylabel('계수 크기')\n",
        "\n",
        "xlims = plt.xlim()\n",
        "plt.hlines(0, xlims[0], xlims[1])\n",
        "plt.xlim(xlims)\n",
        "plt.ylim(-1, 1)\n",
        "plt.legend()"
      ],
      "metadata": {
        "colab": {
          "base_uri": "https://localhost:8080/",
          "height": 358
        },
        "id": "GMEQYblR91zA",
        "outputId": "bf5a3f33-7cf1-4770-ef1b-1434841dc561"
      },
      "execution_count": 81,
      "outputs": [
        {
          "output_type": "execute_result",
          "data": {
            "text/plain": [
              "<matplotlib.legend.Legend at 0x7f300dbf13d0>"
            ]
          },
          "metadata": {},
          "execution_count": 81
        },
        {
          "output_type": "stream",
          "name": "stderr",
          "text": [
            "/usr/local/lib/python3.7/dist-packages/matplotlib/backends/backend_agg.py:214: RuntimeWarning: Glyph 8722 missing from current font.\n",
            "  font.set_text(s, 0.0, flags=flags)\n",
            "/usr/local/lib/python3.7/dist-packages/matplotlib/backends/backend_agg.py:183: RuntimeWarning: Glyph 8722 missing from current font.\n",
            "  font.set_text(s, 0, flags=flags)\n"
          ]
        },
        {
          "output_type": "display_data",
          "data": {
            "text/plain": [
              "<Figure size 432x288 with 1 Axes>"
            ],
            "image/png": "[encoded data removed]"
          },
          "metadata": {
            "needs_background": "light"
          }
        }
      ]
    },
    {
      "cell_type": "code",
      "source": [
        "# 릿지 회귀(규제)\n",
        "from sklearn.linear_model import Ridge\n",
        "ridge = Ridge().fit(X_train, y_train)\n",
        "ridge01 = Ridge(alpha=0.1).fit(X_train, y_train)\n",
        "ridge10 = Ridge(alpha=10).fit(X_train, y_train)\n",
        "\n",
        "print('Ridge')\n",
        "print('학습 점수 :', ridge.score(X_train, y_train))\n",
        "print('테스트 점수 :', ridge.score(X_test, y_test))\n",
        "\n",
        "print()\n",
        "print('Ridge0.1')\n",
        "print('학습 점수 :', ridge01.score(X_train, y_train))\n",
        "print('테스트 점수 :', ridge01.score(X_test, y_test))\n",
        "\n",
        "print()\n",
        "print('Ridge10')\n",
        "print('학습 점수 :', ridge10.score(X_train, y_train))\n",
        "print('테스트 점수 :', ridge10.score(X_test, y_test))"
      ],
      "metadata": {
        "colab": {
          "base_uri": "https://localhost:8080/"
        },
        "id": "wa9eb7nHr1V0",
        "outputId": "af236a05-c0a6-4de7-c5b4-2216e9dc68bc"
      },
      "execution_count": 94,
      "outputs": [
        {
          "output_type": "stream",
          "name": "stdout",
          "text": [
            "Ridge\n",
            "학습 점수 : 0.7515341143385063\n",
            "테스트 점수 : 0.7007820570615126\n",
            "\n",
            "Ridge0.1\n",
            "학습 점수 : 0.7663667915206321\n",
            "테스트 점수 : 0.7214517764344484\n",
            "\n",
            "Ridge10\n",
            "학습 점수 : 0.7358621955930593\n",
            "테스트 점수 : 0.6792081379709878\n"
          ]
        }
      ]
    },
    {
      "cell_type": "code",
      "source": [
        "# 릿지 회귀 규제간의 비교\n",
        "plt.plot(ridge.coef_, '^', label = 'Ridge alpha=1')\n",
        "plt.plot(ridge01.coef_, 'v', label = 'Ridge alpha=0.1')\n",
        "plt.plot(ridge10.coef_, 's', label = 'Ridge alpha=10')\n",
        "\n",
        "plt.xlabel('계수 목록')\n",
        "plt.ylabel('계수 크기')\n",
        "\n",
        "xlims = plt.xlim()\n",
        "plt.hlines(0, xlims[0], xlims[1])\n",
        "plt.xlim(xlims)\n",
        "plt.ylim(-1, 1)\n",
        "plt.legend()"
      ],
      "metadata": {
        "colab": {
          "base_uri": "https://localhost:8080/",
          "height": 358
        },
        "id": "L6XlWd1Jr1Xz",
        "outputId": "2a3951f9-29d9-4cda-b890-2d044ae03156"
      },
      "execution_count": 84,
      "outputs": [
        {
          "output_type": "execute_result",
          "data": {
            "text/plain": [
              "<matplotlib.legend.Legend at 0x7f300daa51d0>"
            ]
          },
          "metadata": {},
          "execution_count": 84
        },
        {
          "output_type": "stream",
          "name": "stderr",
          "text": [
            "/usr/local/lib/python3.7/dist-packages/matplotlib/backends/backend_agg.py:214: RuntimeWarning: Glyph 8722 missing from current font.\n",
            "  font.set_text(s, 0.0, flags=flags)\n",
            "/usr/local/lib/python3.7/dist-packages/matplotlib/backends/backend_agg.py:183: RuntimeWarning: Glyph 8722 missing from current font.\n",
            "  font.set_text(s, 0, flags=flags)\n"
          ]
        },
        {
          "output_type": "display_data",
          "data": {
            "text/plain": [
              "<Figure size 432x288 with 1 Axes>"
            ],
            "image/png": "[encoded data removed]"
          },
          "metadata": {
            "needs_background": "light"
          }
        }
      ]
    },
    {
      "cell_type": "markdown",
      "source": [
        "# 라쏘 회귀"
      ],
      "metadata": {
        "id": "--tOcz-7AW1v"
      }
    },
    {
      "cell_type": "code",
      "source": [
        "# 라쏘 회귀\n",
        "from sklearn.linear_model import Lasso\n",
        "lasso = Lasso().fit(X_train, y_train)\n",
        "lasso10 = Lasso(alpha=10).fit(X_train, y_train)\n",
        "lasso001 = Lasso(alpha=0.01, max_iter=50000).fit(X_train, y_train)\n",
        "lasso00001 = Lasso(alpha=0.0001, max_iter=50000).fit(X_train, y_train)\n",
        "\n",
        "print('Lasso')\n",
        "print('학습 점수 :', lasso.score(X_train, y_train))\n",
        "print('테스트 점수 :', lasso.score(X_test, y_test))\n",
        "print('사용 특성 개수 :', np.sum(lasso.coef_ != 0))\n",
        "\n",
        "print()\n",
        "print('Lasso10')\n",
        "print('학습 점수 :', lasso10.score(X_train, y_train))\n",
        "print('테스트 점수 :', lasso10.score(X_test, y_test))\n",
        "print('사용 특성 개수 :', np.sum(lasso10.coef_ != 0))\n",
        "\n",
        "print()\n",
        "print('Lasso0.01')\n",
        "print('학습 점수 :', lasso001.score(X_train, y_train))\n",
        "print('테스트 점수 :', lasso001.score(X_test, y_test))\n",
        "print('사용 특성 개수 :', np.sum(lasso001.coef_ != 0))\n",
        "\n",
        "print()\n",
        "print('Lasso0.0001')\n",
        "print('학습 점수 :', lasso00001.score(X_train, y_train))\n",
        "print('테스트 점수 :', lasso00001.score(X_test, y_test))\n",
        "print('사용 특성 개수 :', np.sum(lasso00001.coef_ != 0))"
      ],
      "metadata": {
        "colab": {
          "base_uri": "https://localhost:8080/"
        },
        "id": "llFO8F2PuY-7",
        "outputId": "63837a74-7ea1-4c09-be5e-4770451a0881"
      },
      "execution_count": 93,
      "outputs": [
        {
          "output_type": "stream",
          "name": "stdout",
          "text": [
            "Lasso\n",
            "학습 점수 : 0.572680875560778\n",
            "테스트 점수 : 0.560501382680098\n",
            "사용 특성 개수 : 3\n",
            "\n",
            "Lasso10\n",
            "학습 점수 : 0.5358182573830892\n",
            "테스트 점수 : 0.5370557568454182\n",
            "사용 특성 개수 : 1\n",
            "\n",
            "Lasso0.01\n",
            "학습 점수 : 0.7025955245670119\n",
            "테스트 점수 : 0.6462122252199604\n",
            "사용 특성 개수 : 9\n",
            "\n",
            "Lasso0.0001\n",
            "학습 점수 : 0.7716243265800267\n",
            "테스트 점수 : 0.7276955560652556\n",
            "사용 특성 개수 : 23\n"
          ]
        }
      ]
    },
    {
      "cell_type": "code",
      "source": [
        "plt.plot(lasso.coef_, '^', label = 'Lasso alpha=1')\n",
        "plt.plot(lasso10.coef_, 's', label = 'Lasso alpha=10')\n",
        "plt.plot(lasso001.coef_, 'v', label = 'Lasso alpha=0.01')\n",
        "plt.plot(lasso00001.coef_, 's', label = 'Lasso alpha=0.0001')\n",
        "\n",
        "plt.xlabel('계수 목록')\n",
        "plt.ylabel('계수 크기')\n",
        "\n",
        "xlims = plt.xlim()\n",
        "plt.hlines(0, xlims[0], xlims[1])\n",
        "plt.xlim(xlims)\n",
        "plt.ylim(-0.01, 0.01)\n",
        "plt.legend()"
      ],
      "metadata": {
        "colab": {
          "base_uri": "https://localhost:8080/",
          "height": 358
        },
        "id": "FTfvETO8uZA8",
        "outputId": "87e11011-5272-4c07-96a2-4396c676bf8e"
      },
      "execution_count": 90,
      "outputs": [
        {
          "output_type": "execute_result",
          "data": {
            "text/plain": [
              "<matplotlib.legend.Legend at 0x7f300d850290>"
            ]
          },
          "metadata": {},
          "execution_count": 90
        },
        {
          "output_type": "stream",
          "name": "stderr",
          "text": [
            "/usr/local/lib/python3.7/dist-packages/matplotlib/backends/backend_agg.py:214: RuntimeWarning: Glyph 8722 missing from current font.\n",
            "  font.set_text(s, 0.0, flags=flags)\n",
            "/usr/local/lib/python3.7/dist-packages/matplotlib/backends/backend_agg.py:183: RuntimeWarning: Glyph 8722 missing from current font.\n",
            "  font.set_text(s, 0, flags=flags)\n"
          ]
        },
        {
          "output_type": "display_data",
          "data": {
            "text/plain": [
              "<Figure size 432x288 with 1 Axes>"
            ],
            "image/png": "[encoded data removed]"
          },
          "metadata": {
            "needs_background": "light"
          }
        }
      ]
    },
    {
      "cell_type": "markdown",
      "source": [
        "# 로지스틱 회귀"
      ],
      "metadata": {
        "id": "w7HXDVIKAPjb"
      }
    },
    {
      "cell_type": "code",
      "source": [
        "# 로지스틱 회귀\n",
        "from sklearn.linear_model import LogisticRegression\n",
        "logrec = LogisticRegression(max_iter=50000).fit(X_train, y_train)\n",
        "logrec100 = LogisticRegression(C=100, max_iter=50000).fit(X_train, y_train)\n",
        "\n",
        "print('LogisticRegression')\n",
        "print('학습 점수:',logrec.score(X_train, y_train))\n",
        "print('테스트 점수:',logrec.score(X_test, y_test))\n",
        "\n",
        "print()\n",
        "print('LogisticRegression100')\n",
        "print('학습 점수:',logrec100.score(X_train, y_train))\n",
        "print('테스트 점수:',logrec100.score(X_test, y_test))"
      ],
      "metadata": {
        "colab": {
          "base_uri": "https://localhost:8080/"
        },
        "id": "0zYd-iu5oiO-",
        "outputId": "3ebd0094-7277-4fdd-f9b8-033c6d0e11c8"
      },
      "execution_count": 106,
      "outputs": [
        {
          "output_type": "stream",
          "name": "stdout",
          "text": [
            "LogisticRegression\n",
            "학습 점수: 0.9624413145539906\n",
            "테스트 점수: 0.9440559440559441\n",
            "\n",
            "LogisticRegression100\n",
            "학습 점수: 0.9859154929577465\n",
            "테스트 점수: 0.958041958041958\n"
          ]
        }
      ]
    },
    {
      "cell_type": "markdown",
      "source": [
        "# SVM (Support Vector machine)"
      ],
      "metadata": {
        "id": "YupTwEmvAjWW"
      }
    },
    {
      "cell_type": "code",
      "source": [
        "# svm\n",
        "from sklearn.svm import LinearSVC"
      ],
      "metadata": {
        "id": "-D9GZcnhpDIc"
      },
      "execution_count": 91,
      "outputs": []
    },
    {
      "cell_type": "code",
      "source": [],
      "metadata": {
        "id": "N9Sv9f8KAsnF"
      },
      "execution_count": null,
      "outputs": []
    }
  ]
}
